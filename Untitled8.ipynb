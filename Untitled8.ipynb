{
  "nbformat": 4,
  "nbformat_minor": 0,
  "metadata": {
    "colab": {
      "provenance": [],
      "authorship_tag": "ABX9TyM+YwBmIWDvHQRKfW91/Zcv",
      "include_colab_link": true
    },
    "kernelspec": {
      "name": "python3",
      "display_name": "Python 3"
    },
    "language_info": {
      "name": "python"
    }
  },
  "cells": [
    {
      "cell_type": "markdown",
      "metadata": {
        "id": "view-in-github",
        "colab_type": "text"
      },
      "source": [
        "<a href=\"https://colab.research.google.com/github/nakkalavaishnavi/GAi/blob/main/Untitled8.ipynb\" target=\"_parent\"><img src=\"https://colab.research.google.com/assets/colab-badge.svg\" alt=\"Open In Colab\"/></a>"
      ]
    },
    {
      "cell_type": "code",
      "execution_count": 1,
      "metadata": {
        "id": "VBw5VG5WSPGu"
      },
      "outputs": [],
      "source": [
        "from scipy.optimize import linprog\n",
        "\n"
      ]
    },
    {
      "cell_type": "code",
      "source": [
        "c = [-6, -5]\n"
      ],
      "metadata": {
        "id": "NFmHP2-TdBh3"
      },
      "execution_count": 2,
      "outputs": []
    },
    {
      "cell_type": "code",
      "source": [
        "A = [\n",
        "    [1, 1],   # Milk constraint\n",
        "    [3, 2]    # Choco constraint\n",
        "]"
      ],
      "metadata": {
        "id": "WBTfNqeQdBvH"
      },
      "execution_count": 3,
      "outputs": []
    },
    {
      "cell_type": "code",
      "source": [
        "b = [5, 12]"
      ],
      "metadata": {
        "id": "jPYAqnuKdB-3"
      },
      "execution_count": 4,
      "outputs": []
    },
    {
      "cell_type": "code",
      "source": [
        "x0_bounds = (0, None)  # A >= 0\n",
        "x1_bounds = (0, None)  # B >= 0\n"
      ],
      "metadata": {
        "id": "TrLt9gUWdCEf"
      },
      "execution_count": 7,
      "outputs": []
    },
    {
      "cell_type": "code",
      "source": [
        "result = linprog(c, A_ub=A, b_ub=b, bounds=[x0_bounds, x1_bounds], method='highs')\n"
      ],
      "metadata": {
        "id": "MRjY8vM3dCIO"
      },
      "execution_count": 8,
      "outputs": []
    },
    {
      "cell_type": "code",
      "source": [
        "if result.success:\n",
        "    print(f\"Optimal solution found:\")\n",
        "    print(f\"Units of A to produce: {result.x[0]:.2f}\")\n",
        "    print(f\"Units of B to produce: {result.x[1]:.2f}\")\n",
        "    print(f\"Maximum profit: Rs {-result.fun:.2f}\")\n",
        "else:\n",
        "    print(\"No optimal solution found.\")"
      ],
      "metadata": {
        "colab": {
          "base_uri": "https://localhost:8080/"
        },
        "id": "ARRl28IEdfvv",
        "outputId": "56b982e8-948c-4cad-c341-61b0325e95ba"
      },
      "execution_count": 9,
      "outputs": [
        {
          "output_type": "stream",
          "name": "stdout",
          "text": [
            "Optimal solution found:\n",
            "Units of A to produce: 2.00\n",
            "Units of B to produce: 3.00\n",
            "Maximum profit: Rs 27.00\n"
          ]
        }
      ]
    },
    {
      "cell_type": "code",
      "source": [
        "c = [-120, -50]  # Profit per hectare for Wheat and Barley (negative for maximization)\n"
      ],
      "metadata": {
        "id": "BTTMxQNmeYCP"
      },
      "execution_count": 10,
      "outputs": []
    },
    {
      "cell_type": "code",
      "source": [
        "A = [\n",
        "    [1, 1],          # Land constraint\n",
        "    [7000, 2000],    # Budget constraint\n",
        "    [10, 30]         # Labor constraint\n",
        "]\n",
        "b = [110, 700000, 1200]  # Right-hand side values for the constraints\n"
      ],
      "metadata": {
        "id": "qTx6vTOxeYHG"
      },
      "execution_count": 11,
      "outputs": []
    },
    {
      "cell_type": "code",
      "source": [
        "x_bounds = (0, None)  # Bounds for both x1 (Wheat) and x2 (Barley)\n",
        "bounds = [x_bounds, x_bounds]"
      ],
      "metadata": {
        "id": "oHE_MCqUeYOn"
      },
      "execution_count": 12,
      "outputs": []
    },
    {
      "cell_type": "code",
      "source": [
        "result = linprog(c, A_ub=A, b_ub=b, bounds=bounds, method='highs')\n"
      ],
      "metadata": {
        "id": "tcNcTU6AeYUP"
      },
      "execution_count": 13,
      "outputs": []
    },
    {
      "cell_type": "code",
      "source": [
        "if result.success:\n",
        "    print(\"Optimal Solution Found!\")\n",
        "    print(f\"Area allocated to Wheat (x1): {result.x[0]:.2f} hectares\")\n",
        "    print(f\"Area allocated to Barley (x2): {result.x[1]:.2f} hectares\")\n",
        "    print(f\"Maximum Profit: Rs. {-result.fun:.2f}\")\n",
        "else:\n",
        "    print(\"No optimal solution found.\")"
      ],
      "metadata": {
        "colab": {
          "base_uri": "https://localhost:8080/"
        },
        "id": "jSEXDnEJeqGo",
        "outputId": "8d6d393d-48ca-4e40-9b04-dae9a61545d1"
      },
      "execution_count": 14,
      "outputs": [
        {
          "output_type": "stream",
          "name": "stdout",
          "text": [
            "Optimal Solution Found!\n",
            "Area allocated to Wheat (x1): 97.89 hectares\n",
            "Area allocated to Barley (x2): 7.37 hectares\n",
            "Maximum Profit: Rs. 12115.79\n"
          ]
        }
      ]
    },
    {
      "cell_type": "code",
      "source": [],
      "metadata": {
        "id": "tf2hjEyGeqLG"
      },
      "execution_count": null,
      "outputs": []
    },
    {
      "cell_type": "code",
      "source": [],
      "metadata": {
        "id": "77LRvEvmeqR2"
      },
      "execution_count": null,
      "outputs": []
    }
  ]
}