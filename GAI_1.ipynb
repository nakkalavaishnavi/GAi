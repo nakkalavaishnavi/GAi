{
  "nbformat": 4,
  "nbformat_minor": 0,
  "metadata": {
    "colab": {
      "provenance": [],
      "authorship_tag": "ABX9TyN909LEAfIMo082wm7kA3uJ",
      "include_colab_link": true
    },
    "kernelspec": {
      "name": "python3",
      "display_name": "Python 3"
    },
    "language_info": {
      "name": "python"
    }
  },
  "cells": [
    {
      "cell_type": "markdown",
      "metadata": {
        "id": "view-in-github",
        "colab_type": "text"
      },
      "source": [
        "<a href=\"https://colab.research.google.com/github/nakkalavaishnavi/GAi/blob/main/GAI_1.ipynb\" target=\"_parent\"><img src=\"https://colab.research.google.com/assets/colab-badge.svg\" alt=\"Open In Colab\"/></a>"
      ]
    },
    {
      "cell_type": "code",
      "execution_count": 1,
      "metadata": {
        "id": "wwufhlTEVnAy"
      },
      "outputs": [],
      "source": [
        "import numpy as np\n",
        "from sklearn.metrics import mean_absolute_error, mean_squared_error, r2_score"
      ]
    },
    {
      "cell_type": "code",
      "source": [
        "y_actual = np.array([20, 30, 40, 50, 60])\n",
        "y_pred = np.array([20.5, 30.3, 40.2, 50.6, 60.7])"
      ],
      "metadata": {
        "id": "xf9pyOyAVsnw"
      },
      "execution_count": 2,
      "outputs": []
    },
    {
      "cell_type": "code",
      "source": [
        "mae = np.mean(np.abs(y_actual - y_pred))"
      ],
      "metadata": {
        "id": "0jJ8HYE7VwQQ"
      },
      "execution_count": 3,
      "outputs": []
    },
    {
      "cell_type": "code",
      "source": [
        "mse = np.mean((y_actual - y_pred) ** 2)"
      ],
      "metadata": {
        "id": "mWfZNTCLVwVo"
      },
      "execution_count": 4,
      "outputs": []
    },
    {
      "cell_type": "code",
      "source": [
        "rmse = np.sqrt(mse)"
      ],
      "metadata": {
        "id": "LIDgk-KbVwaP"
      },
      "execution_count": 5,
      "outputs": []
    },
    {
      "cell_type": "code",
      "source": [
        "print(f\"Manual MAE: {mae}\")\n",
        "print(f\"Manual MSE: {mse}\")\n",
        "print(f\"Manual RMSE: {rmse}\")"
      ],
      "metadata": {
        "colab": {
          "base_uri": "https://localhost:8080/"
        },
        "id": "LK1Lx0OxV9pP",
        "outputId": "cde1a4f1-6592-4256-bd95-fe6084f95b7d"
      },
      "execution_count": 6,
      "outputs": [
        {
          "output_type": "stream",
          "name": "stdout",
          "text": [
            "Manual MAE: 0.4600000000000016\n",
            "Manual MSE: 0.24600000000000147\n",
            "Manual RMSE: 0.49598387070549127\n"
          ]
        }
      ]
    },
    {
      "cell_type": "code",
      "source": [
        "print(\"\\nLibrary Results:\")\n",
        "print(f\"MAE (scikit-learn): {mean_absolute_error(y_actual, y_pred)}\")\n",
        "print(f\"MSE (scikit-learn): {mean_squared_error(y_actual, y_pred)}\")\n",
        "print(f\"RMSE (scikit-learn): {np.sqrt(mean_squared_error(y_actual, y_pred))}\")\n",
        "print(f\"R-squared (scikit-learn): {r2_score(y_actual, y_pred)}\")"
      ],
      "metadata": {
        "colab": {
          "base_uri": "https://localhost:8080/"
        },
        "id": "3HNxEzYIV9tA",
        "outputId": "5a19bff1-76e3-41f3-9bd7-2be1f5ac0eba"
      },
      "execution_count": 7,
      "outputs": [
        {
          "output_type": "stream",
          "name": "stdout",
          "text": [
            "\n",
            "Library Results:\n",
            "MAE (scikit-learn): 0.4600000000000016\n",
            "MSE (scikit-learn): 0.24600000000000147\n",
            "RMSE (scikit-learn): 0.49598387070549127\n",
            "R-squared (scikit-learn): 0.99877\n"
          ]
        }
      ]
    },
    {
      "cell_type": "code",
      "source": [],
      "metadata": {
        "id": "_iErvyUDV9wx"
      },
      "execution_count": 7,
      "outputs": []
    }
  ]
}